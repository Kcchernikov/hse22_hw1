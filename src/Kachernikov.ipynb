{
 "cells": [
  {
   "cell_type": "code",
   "execution_count": 41,
   "metadata": {},
   "outputs": [],
   "source": [
    "def analysis(f):\n",
    "    cnt = 0\n",
    "    total_length = 0\n",
    "    max_length = 0\n",
    "    rem = ''\n",
    "    \n",
    "    lengths = []\n",
    "    cur_l = 0\n",
    "    cur_s = ''\n",
    "    \n",
    "    for line in f:\n",
    "#         print(line)\n",
    "        if (line[0] == '>'):\n",
    "            if cnt != 0:\n",
    "                lengths.append(cur_l)\n",
    "                if cur_l >= max_length:\n",
    "                    max_length = cur_l\n",
    "                    rem = cur_s\n",
    "                cur_s = ''\n",
    "                cur_l = 0\n",
    "            cnt += 1\n",
    "        else:\n",
    "            cur_l += len(line.strip())\n",
    "            total_length += len(line.strip())\n",
    "            cur_s += line.strip()\n",
    "    if cur_l != 0:\n",
    "        lengths.append(cur_l)\n",
    "        if cur_l >= max_length:\n",
    "            max_length = cur_l\n",
    "            rem = cur_s\n",
    "     \n",
    "    lengths.sort()\n",
    "    pos = len(lengths)//2\n",
    "    print(f'Анализ:\\nОбщее количество:{cnt},\\nОбщая длина: {total_length},\\nДлина самого длинного: {max_length},\\nN50: {lengths[pos]}\\n')\n",
    "    return rem"
   ]
  },
  {
   "cell_type": "code",
   "execution_count": 42,
   "metadata": {},
   "outputs": [
    {
     "name": "stdout",
     "output_type": "stream",
     "text": [
      "Анализ:\n",
      "Общее количество:606,\n",
      "Общая длина: 3924661,\n",
      "Длина самого длинного: 179304,\n",
      "N50: 180\n",
      "\n"
     ]
    }
   ],
   "source": [
    "analysis(open('Poil_contig.fa', 'r'))"
   ]
  },
  {
   "cell_type": "code",
   "execution_count": 46,
   "metadata": {},
   "outputs": [
    {
     "name": "stdout",
     "output_type": "stream",
     "text": [
      "Анализ:\n",
      "Общее количество:74,\n",
      "Общая длина: 3874861,\n",
      "Длина самого длинного: 3831351,\n",
      "N50: 223\n",
      "\n"
     ]
    }
   ],
   "source": [
    "max_scaffold = analysis(open('Poil_scaffold.fa', 'r'))"
   ]
  },
  {
   "cell_type": "code",
   "execution_count": 48,
   "metadata": {},
   "outputs": [
    {
     "name": "stdout",
     "output_type": "stream",
     "text": [
      "Число гэпов: 63\n",
      "Общая длина гэпов: 5561\n"
     ]
    }
   ],
   "source": [
    "cnt = 0\n",
    "for i in range(len(max_scaffold)):\n",
    "    if max_scaffold[i] == 'N' and (i + 1 == len(max_scaffold) or max_scaffold[i + 1] != 'N'):\n",
    "        cnt += 1\n",
    "# max_scaf = re.sub(r'N{2,}', 'N', max_scaf)\n",
    "print(f'Число гэпов: {cnt}')\n",
    "print(f'Общая длина гэпов: {max_scaffold.count(\"N\")}')"
   ]
  },
  {
   "cell_type": "code",
   "execution_count": 50,
   "metadata": {},
   "outputs": [
    {
     "name": "stdout",
     "output_type": "stream",
     "text": [
      "Анализ:\n",
      "Общее количество:74,\n",
      "Общая длина: 3911655,\n",
      "Длина самого длинного: 3867817,\n",
      "N50: 223\n",
      "\n",
      "Число гэпов: 10\n",
      "Общая длина гэпов: 1766\n"
     ]
    }
   ],
   "source": [
    "max_scaffold = analysis(open('Poil_gapClosed.fa', 'r'))\n",
    "cnt = 0\n",
    "for i in range(len(max_scaffold)):\n",
    "    if max_scaffold[i] == 'N' and (i + 1 == len(max_scaffold) or max_scaffold[i + 1] != 'N'):\n",
    "        cnt += 1\n",
    "# max_scaf = re.sub(r'N{2,}', 'N', max_scaf)\n",
    "print(f'Число гэпов: {cnt}')\n",
    "print(f'Общая длина гэпов: {max_scaffold.count(\"N\")}')"
   ]
  },
  {
   "cell_type": "code",
   "execution_count": 51,
   "metadata": {},
   "outputs": [],
   "source": [
    "f = open('longest.fasta', 'w')\n",
    "f.write(max_scaffold)\n",
    "f.close()"
   ]
  },
  {
   "cell_type": "code",
   "execution_count": null,
   "metadata": {},
   "outputs": [],
   "source": []
  }
 ],
 "metadata": {
  "kernelspec": {
   "display_name": "Python 3 (ipykernel)",
   "language": "python",
   "name": "python3"
  },
  "language_info": {
   "codemirror_mode": {
    "name": "ipython",
    "version": 3
   },
   "file_extension": ".py",
   "mimetype": "text/x-python",
   "name": "python",
   "nbconvert_exporter": "python",
   "pygments_lexer": "ipython3",
   "version": "3.8.10"
  }
 },
 "nbformat": 4,
 "nbformat_minor": 4
}
